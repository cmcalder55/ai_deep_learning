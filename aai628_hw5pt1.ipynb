{
  "nbformat": 4,
  "nbformat_minor": 0,
  "metadata": {
    "colab": {
      "provenance": []
    },
    "kernelspec": {
      "name": "python3",
      "display_name": "Python 3"
    },
    "language_info": {
      "name": "python"
    }
  },
  "cells": [
    {
      "cell_type": "markdown",
      "source": [
        "# load dataset and initialize vectors"
      ],
      "metadata": {
        "id": "3MJMJnZ27iCE"
      }
    },
    {
      "cell_type": "code",
      "execution_count": 1,
      "metadata": {
        "id": "K2yjtY4mCGq0"
      },
      "outputs": [],
      "source": [
        "from keras.datasets import imdb "
      ]
    },
    {
      "cell_type": "code",
      "source": [
        "(train_data, train_labels),(test_data, test_labels) = imdb.load_data( num_words=10000)"
      ],
      "metadata": {
        "id": "1seNWV3oCYyf",
        "colab": {
          "base_uri": "https://localhost:8080/"
        },
        "outputId": "dec5b3c1-92f9-46b4-bcf5-e730886f3322"
      },
      "execution_count": 2,
      "outputs": [
        {
          "output_type": "stream",
          "name": "stdout",
          "text": [
            "Downloading data from https://storage.googleapis.com/tensorflow/tf-keras-datasets/imdb.npz\n",
            "17464789/17464789 [==============================] - 0s 0us/step\n"
          ]
        }
      ]
    },
    {
      "cell_type": "code",
      "source": [
        "train_data[0]"
      ],
      "metadata": {
        "id": "wD2zPNXeCY6D"
      },
      "execution_count": null,
      "outputs": []
    },
    {
      "cell_type": "code",
      "source": [
        "train_labels[0]"
      ],
      "metadata": {
        "colab": {
          "base_uri": "https://localhost:8080/"
        },
        "id": "FXdQ6QocFZGX",
        "outputId": "8d3e6ce6-a159-43d4-e049-1d873cf3178e"
      },
      "execution_count": 4,
      "outputs": [
        {
          "output_type": "execute_result",
          "data": {
            "text/plain": [
              "1"
            ]
          },
          "metadata": {},
          "execution_count": 4
        }
      ]
    },
    {
      "cell_type": "code",
      "source": [
        "import numpy as np\n",
        "\n",
        "def vectorize_sequences(sequences, dimension=10000):\n",
        "    results = np.zeros((len(sequences), dimension))\n",
        "    for i, sequence in enumerate(sequences):\n",
        "        results[i, sequence] = 1.\n",
        "    return results"
      ],
      "metadata": {
        "id": "dbDfY51cClNH"
      },
      "execution_count": 5,
      "outputs": []
    },
    {
      "cell_type": "code",
      "source": [
        "# vectorize data and its labels\n",
        "x_train = vectorize_sequences(train_data) \n",
        "x_test = vectorize_sequences(test_data)\n",
        "\n",
        "y_train = np.asarray(train_labels).astype('float32')\n",
        "y_test = np.asarray(test_labels).astype('float32')"
      ],
      "metadata": {
        "id": "Q_n0v3afClTO"
      },
      "execution_count": 6,
      "outputs": []
    },
    {
      "cell_type": "markdown",
      "source": [
        "# Part 1: Compare Different Compiler Setups"
      ],
      "metadata": {
        "id": "rzc3kQhODzkU"
      }
    },
    {
      "cell_type": "code",
      "source": [
        "from keras import models\n",
        "from keras import layers\n",
        "from keras import optimizers\n",
        "from keras import losses\n",
        "from keras import metrics"
      ],
      "metadata": {
        "id": "OxoaBFYYEXBi"
      },
      "execution_count": 7,
      "outputs": []
    },
    {
      "cell_type": "code",
      "source": [
        "n_layers = 2\n",
        "\n",
        "n_units = 2            # units per layer\n",
        "\n",
        "act = ['relu','tanh']\n",
        "act = act[0]            # activation function\n",
        "\n",
        "loss_fxn = ['binary_crossentropy','mse'] \n",
        "loss_fxn = loss_fxn[1]  # loss function"
      ],
      "metadata": {
        "id": "EzVsfL3LJFmz"
      },
      "execution_count": 40,
      "outputs": []
    },
    {
      "cell_type": "code",
      "source": [
        "n_layers, n_units, act, loss_fxn"
      ],
      "metadata": {
        "colab": {
          "base_uri": "https://localhost:8080/"
        },
        "id": "_YBfzvm6d23e",
        "outputId": "f4eea1be-bfea-4b64-a6eb-46fa8d897f88"
      },
      "execution_count": 41,
      "outputs": [
        {
          "output_type": "execute_result",
          "data": {
            "text/plain": [
              "(2, 2, 'relu', 'mse')"
            ]
          },
          "metadata": {},
          "execution_count": 41
        }
      ]
    },
    {
      "cell_type": "markdown",
      "source": [
        "## add hidden layers to the model"
      ],
      "metadata": {
        "id": "jvVTsjlC7yeR"
      }
    },
    {
      "cell_type": "code",
      "source": [
        "if n_layers == 1:\n",
        "  # one hidden layer\n",
        "  model = models.Sequential()\n",
        "  model.add(layers.Dense(n_units, activation=act, input_shape=(10000,)))\n",
        "  plt_title = '1 layer'\n",
        "\n",
        "elif n_layers == 2:\n",
        "  # two hidden layers\n",
        "  model = models.Sequential()\n",
        "  model.add(layers.Dense(n_units, activation=act, input_shape=(10000,)))\n",
        "  model.add(layers.Dense(1, activation='sigmoid'))\n",
        "  plt_title = '2 layers'\n",
        "\n",
        "elif n_layers == 3:\n",
        "  # three hidden layers\n",
        "  model = models.Sequential()\n",
        "  model.add(layers.Dense(n_units, activation=act, input_shape=(10000,)))\n",
        "  model.add(layers.Dense(n_units, activation=act))\n",
        "  model.add(layers.Dense(1, activation='sigmoid'))\n",
        "  plt_title = '3 layers'\n",
        "\n",
        "else: print('invalid input for num. layers')\n"
      ],
      "metadata": {
        "id": "wkpZWvFT5VcQ"
      },
      "execution_count": 42,
      "outputs": []
    },
    {
      "cell_type": "code",
      "source": [
        "model.compile(optimizer=optimizers.RMSprop(lr=0.001),\n",
        "              loss=loss_fxn,\n",
        "              metrics=['accuracy'])"
      ],
      "metadata": {
        "id": "pFn0QvjBClbF"
      },
      "execution_count": 43,
      "outputs": []
    },
    {
      "cell_type": "markdown",
      "source": [
        "## loss function"
      ],
      "metadata": {
        "id": "aAPr81Hucdfx"
      }
    },
    {
      "cell_type": "code",
      "source": [
        "if loss_fxn == 'mse':\n",
        "  model.compile(optimizer=optimizers.RMSprop(lr=0.001),\n",
        "                loss=losses.mse,\n",
        "                metrics=[metrics.binary_accuracy])\n",
        "  \n",
        "elif loss_fxn == 'binary_crossentropy':\n",
        "  model.compile(optimizer=optimizers.RMSprop(lr=0.001),\n",
        "              loss=losses.binary_crossentropy,\n",
        "              metrics=[metrics.binary_accuracy])\n",
        "  \n",
        "else: print('invalid loss function')"
      ],
      "metadata": {
        "id": "zcN2Ru6xbo6Y"
      },
      "execution_count": 44,
      "outputs": []
    },
    {
      "cell_type": "code",
      "source": [
        "x_val = x_train[:10000]\n",
        "partial_x_train = x_train[10000:]\n",
        "y_val = y_train[:10000]\n",
        "partial_y_train = y_train[10000:]"
      ],
      "metadata": {
        "id": "K1n-o9o3C6Xm"
      },
      "execution_count": 45,
      "outputs": []
    },
    {
      "cell_type": "markdown",
      "source": [
        "## fit model with some training data"
      ],
      "metadata": {
        "id": "ryABwW6U6ife"
      }
    },
    {
      "cell_type": "code",
      "source": [
        "model.compile(optimizer='rmsprop',\n",
        "              loss=loss_fxn,\n",
        "              metrics=['acc'])\n",
        "\n",
        "history = model.fit(partial_x_train,\n",
        "                    partial_y_train,\n",
        "                    epochs=20,\n",
        "                    batch_size=512,\n",
        "                    validation_data=(x_val, y_val))\n",
        "\n",
        "history_dict = history.history"
      ],
      "metadata": {
        "id": "ysVamBM4C6aE",
        "colab": {
          "base_uri": "https://localhost:8080/"
        },
        "outputId": "7056fefc-e736-42c1-aa51-613abdfbac91"
      },
      "execution_count": 46,
      "outputs": [
        {
          "output_type": "stream",
          "name": "stdout",
          "text": [
            "Epoch 1/20\n",
            "30/30 [==============================] - 2s 37ms/step - loss: 0.2249 - acc: 0.6471 - val_loss: 0.2007 - val_acc: 0.6857\n",
            "Epoch 2/20\n",
            "30/30 [==============================] - 1s 27ms/step - loss: 0.1872 - acc: 0.7769 - val_loss: 0.1823 - val_acc: 0.7887\n",
            "Epoch 3/20\n",
            "30/30 [==============================] - 1s 32ms/step - loss: 0.1704 - acc: 0.8363 - val_loss: 0.1725 - val_acc: 0.8236\n",
            "Epoch 4/20\n",
            "30/30 [==============================] - 1s 19ms/step - loss: 0.1590 - acc: 0.8727 - val_loss: 0.1667 - val_acc: 0.8252\n",
            "Epoch 5/20\n",
            "30/30 [==============================] - 1s 19ms/step - loss: 0.1502 - acc: 0.8950 - val_loss: 0.1606 - val_acc: 0.8526\n",
            "Epoch 6/20\n",
            "30/30 [==============================] - 1s 24ms/step - loss: 0.1429 - acc: 0.9109 - val_loss: 0.1569 - val_acc: 0.8533\n",
            "Epoch 7/20\n",
            "30/30 [==============================] - 1s 19ms/step - loss: 0.1364 - acc: 0.9223 - val_loss: 0.1543 - val_acc: 0.8519\n",
            "Epoch 8/20\n",
            "30/30 [==============================] - 1s 25ms/step - loss: 0.1307 - acc: 0.9301 - val_loss: 0.1500 - val_acc: 0.8650\n",
            "Epoch 9/20\n",
            "30/30 [==============================] - 1s 19ms/step - loss: 0.1253 - acc: 0.9392 - val_loss: 0.1473 - val_acc: 0.8661\n",
            "Epoch 10/20\n",
            "30/30 [==============================] - 1s 21ms/step - loss: 0.1203 - acc: 0.9468 - val_loss: 0.1449 - val_acc: 0.8671\n",
            "Epoch 11/20\n",
            "30/30 [==============================] - 1s 39ms/step - loss: 0.1158 - acc: 0.9520 - val_loss: 0.1440 - val_acc: 0.8638\n",
            "Epoch 12/20\n",
            "30/30 [==============================] - 1s 20ms/step - loss: 0.1113 - acc: 0.9567 - val_loss: 0.1388 - val_acc: 0.8788\n",
            "Epoch 13/20\n",
            "30/30 [==============================] - 1s 19ms/step - loss: 0.1069 - acc: 0.9613 - val_loss: 0.1377 - val_acc: 0.8744\n",
            "Epoch 14/20\n",
            "30/30 [==============================] - 1s 19ms/step - loss: 0.1029 - acc: 0.9645 - val_loss: 0.1386 - val_acc: 0.8649\n",
            "Epoch 15/20\n",
            "30/30 [==============================] - 1s 18ms/step - loss: 0.0991 - acc: 0.9679 - val_loss: 0.1344 - val_acc: 0.8729\n",
            "Epoch 16/20\n",
            "30/30 [==============================] - 1s 17ms/step - loss: 0.0955 - acc: 0.9699 - val_loss: 0.1319 - val_acc: 0.8754\n",
            "Epoch 17/20\n",
            "30/30 [==============================] - 1s 19ms/step - loss: 0.0917 - acc: 0.9731 - val_loss: 0.1286 - val_acc: 0.8804\n",
            "Epoch 18/20\n",
            "30/30 [==============================] - 1s 19ms/step - loss: 0.0883 - acc: 0.9747 - val_loss: 0.1296 - val_acc: 0.8736\n",
            "Epoch 19/20\n",
            "30/30 [==============================] - 1s 20ms/step - loss: 0.0849 - acc: 0.9771 - val_loss: 0.1257 - val_acc: 0.8812\n",
            "Epoch 20/20\n",
            "30/30 [==============================] - 1s 32ms/step - loss: 0.0817 - acc: 0.9789 - val_loss: 0.1274 - val_acc: 0.8712\n"
          ]
        }
      ]
    },
    {
      "cell_type": "markdown",
      "source": [
        "## plot loss over time"
      ],
      "metadata": {
        "id": "83JAtEaC6nuR"
      }
    },
    {
      "cell_type": "code",
      "source": [
        "import matplotlib.pyplot as plt\n",
        "\n",
        "loss_values = history_dict['loss']\n",
        "val_loss_values = history_dict['val_loss']\n",
        "acc_values = history_dict['acc']\n",
        "epochs = range(1, len(acc_values) + 1)\n",
        "plt.plot(epochs, loss_values, 'bo', label='Training loss')\n",
        "plt.plot(epochs, val_loss_values, 'b', label='Validation loss')\n",
        "plt.title('Training and validation loss, '+plt_title)\n",
        "plt.xlabel('Epochs')\n",
        "plt.ylabel('Loss')\n",
        "plt.legend()\n",
        "plt.show()"
      ],
      "metadata": {
        "colab": {
          "base_uri": "https://localhost:8080/",
          "height": 295
        },
        "id": "zVSQ3o-uC6fa",
        "outputId": "2a786f9d-d773-4da9-ba24-925aad73124e"
      },
      "execution_count": 47,
      "outputs": [
        {
          "output_type": "display_data",
          "data": {
            "text/plain": [
              "<Figure size 432x288 with 1 Axes>"
            ],
            "image/png": "[encoded data removed]"
          },
          "metadata": {
            "needs_background": "light"
          }
        }
      ]
    }
  ]
}