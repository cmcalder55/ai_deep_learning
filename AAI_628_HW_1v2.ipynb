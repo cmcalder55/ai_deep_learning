{
  "nbformat": 4,
  "nbformat_minor": 0,
  "metadata": {
    "colab": {
      "provenance": [],
      "authorship_tag": "ABX9TyPRC1RL0bnWVn1bmOO6GCxO",
      "include_colab_link": true
    },
    "kernelspec": {
      "name": "python3",
      "display_name": "Python 3"
    },
    "language_info": {
      "name": "python"
    }
  },
  "cells": [
    {
      "cell_type": "markdown",
      "metadata": {
        "id": "view-in-github",
        "colab_type": "text"
      },
      "source": [
        "<a href=\"https://colab.research.google.com/github/cmcalder55/AAI628/blob/main/AAI_628_HW_1.ipynb\" target=\"_parent\"><img src=\"https://colab.research.google.com/assets/colab-badge.svg\" alt=\"Open In Colab\"/></a>"
      ]
    },
    {
      "cell_type": "markdown",
      "source": [
        "# 1. Test TensorFlow imports"
      ],
      "metadata": {
        "id": "7Rfao0wSj-mG"
      }
    },
    {
      "cell_type": "code",
      "execution_count": null,
      "metadata": {
        "id": "em-sBOp5gI5V"
      },
      "outputs": [],
      "source": [
        "import tensorflow as tf\n",
        "from keras.layers import Input, Dense\n",
        "from keras.models import Model\n",
        "import matplotlib.pyplot as plt"
      ]
    },
    {
      "cell_type": "markdown",
      "source": [
        "# 2. Test TensorFlow with Lin. Reg."
      ],
      "metadata": {
        "id": "ucDmH1RhkD7C"
      }
    },
    {
      "cell_type": "code",
      "source": [
        "import numpy as np\n",
        "#Linear Regression with TensorFlow\n",
        "from sklearn.datasets import fetch_california_housing\n",
        "\n",
        "housing = fetch_california_housing()\n",
        "m, n = housing.data.shape\n",
        "housing_data_plus_bias = np.c_[np.ones((m, 1)), housing.data]\n",
        "\n",
        "X = tf.constant(housing_data_plus_bias, dtype=tf.float32, name=\"X\")\n",
        "y = tf.constant(housing.target.reshape(-1, 1), dtype=tf.float32, name=\"y\")\n",
        "\n",
        "XT = tf.transpose(X)\n",
        "\n",
        "theta = tf.matmul(tf.matmul(tf.linalg.inv(tf.matmul(XT, X)), XT), y)\n",
        "\n",
        "print(theta)"
      ],
      "metadata": {
        "colab": {
          "base_uri": "https://localhost:8080/"
        },
        "id": "sUN4PGVcgVea",
        "outputId": "dc7ec894-9ee1-445c-f0ac-18b954d0c17e"
      },
      "execution_count": null,
      "outputs": [
        {
          "output_type": "stream",
          "name": "stdout",
          "text": [
            "tf.Tensor(\n",
            "[[-3.7144665e+01]\n",
            " [ 4.3637392e-01]\n",
            " [ 9.3933418e-03]\n",
            " [-1.0714764e-01]\n",
            " [ 6.4542186e-01]\n",
            " [-4.1016874e-06]\n",
            " [-3.7816020e-03]\n",
            " [-4.2341197e-01]\n",
            " [-4.3682083e-01]], shape=(9, 1), dtype=float32)\n"
          ]
        }
      ]
    },
    {
      "cell_type": "markdown",
      "source": [
        "# 3. Test TensorFlow with MNIST (handwriting) dataset"
      ],
      "metadata": {
        "id": "HMAWMNL2kTBn"
      }
    },
    {
      "cell_type": "code",
      "source": [
        "# Plot ad hoc mnist instances\n",
        "from keras.datasets import mnist\n",
        "import matplotlib.pyplot as plt\n",
        "# load (downloaded if needed) the MNIST dataset\n",
        "(X_train, y_train), (X_test, y_test) = mnist.load_data()\n",
        "# plot 4 images as gray scale\n",
        "plt.subplot(221)\n",
        "plt.imshow(X_train[0], cmap=plt.get_cmap('gray'))\n",
        "plt.subplot(222)\n",
        "plt.imshow(X_train[1], cmap=plt.get_cmap('gray'))\n",
        "plt.subplot(223)\n",
        "plt.imshow(X_train[2], cmap=plt.get_cmap('gray'))\n",
        "plt.subplot(224)\n",
        "plt.imshow(X_train[3], cmap=plt.get_cmap('gray'))\n",
        "# show the plot\n",
        "plt.show()\n",
        "\n",
        "from keras.models import Sequential\n",
        "from keras.layers import Dense\n",
        "from keras.layers import Dropout\n",
        "from keras.utils import np_utils\n",
        "\n",
        "# fix random seed for reproducibility\n",
        "seed = 7\n",
        "np.random.seed(seed)"
      ],
      "metadata": {
        "colab": {
          "base_uri": "https://localhost:8080/",
          "height": 268
        },
        "id": "WfGoxdgKdRAq",
        "outputId": "4987d39f-0d68-4cec-de9d-1e1bd6b62c40"
      },
      "execution_count": null,
      "outputs": [
        {
          "output_type": "display_data",
          "data": {
            "text/plain": [
              "<Figure size 432x288 with 4 Axes>"
            ],
            "image/png": "[encoded data removed]"
          },
          "metadata": {
            "needs_background": "light"
          }
        }
      ]
    },
    {
      "cell_type": "code",
      "source": [
        "# load data\n",
        "(X_train, y_train), (X_test, y_test) = mnist.load_data()\n",
        "\n",
        "# flatten 28*28 images to a 784 vector for each image\n",
        "num_pixels = X_train.shape[1] * X_train.shape[2]\n",
        "X_train = X_train.reshape(X_train.shape[0], num_pixels).astype('float32')\n",
        "X_test = X_test.reshape(X_test.shape[0], num_pixels).astype('float32')\n",
        "\n",
        "# normalize inputs from 0-255 to 0-1\n",
        "X_train = X_train / 255\n",
        "X_test = X_test / 255\n",
        "\n",
        "# one hot encode outputs\n",
        "y_train = np_utils.to_categorical(y_train)\n",
        "y_test = np_utils.to_categorical(y_test)\n",
        "num_classes = y_test.shape[1]"
      ],
      "metadata": {
        "id": "BLpRqsmIdXM1"
      },
      "execution_count": null,
      "outputs": []
    },
    {
      "cell_type": "code",
      "source": [
        "# define baseline model\n",
        "def baseline_model():\n",
        "# create model\n",
        " model = Sequential()\n",
        " model.add(Dense(num_pixels, input_dim=num_pixels, kernel_initializer='normal', activation='relu'))\n",
        "#  model.add(Dense(num_pixels/2, input_dim=num_pixels, kernel_initializer='normal', activation='relu'))\n",
        " model.add(Dense(num_classes, kernel_initializer='normal', activation='softmax'))\n",
        "# Compile model\n",
        " model.compile(loss='categorical_crossentropy', optimizer='adam', metrics=['accuracy'])\n",
        " return model"
      ],
      "metadata": {
        "id": "Th3UbISEdcOC"
      },
      "execution_count": null,
      "outputs": []
    },
    {
      "cell_type": "code",
      "source": [
        "# build the model\n",
        "model = baseline_model()\n",
        "# Fit the model\n",
        "model.fit(X_train, y_train, validation_data=(X_test, y_test), epochs=10, batch_size=200, verbose=2)\n",
        "# Final evaluation of the model\n",
        "scores = model.evaluate(X_test, y_test, verbose=0)\n",
        "print(\"Baseline Error: %.2f%%\" % (100-scores[1]*100))"
      ],
      "metadata": {
        "colab": {
          "base_uri": "https://localhost:8080/"
        },
        "id": "GpG1hL0cgnMv",
        "outputId": "9b732383-4410-4547-c68b-6a67fdc77e92"
      },
      "execution_count": null,
      "outputs": [
        {
          "output_type": "stream",
          "name": "stdout",
          "text": [
            "Epoch 1/10\n",
            "300/300 - 5s - loss: 0.2773 - accuracy: 0.9213 - val_loss: 0.1428 - val_accuracy: 0.9574 - 5s/epoch - 16ms/step\n",
            "Epoch 2/10\n",
            "300/300 - 4s - loss: 0.1112 - accuracy: 0.9674 - val_loss: 0.0972 - val_accuracy: 0.9719 - 4s/epoch - 14ms/step\n",
            "Epoch 3/10\n",
            "300/300 - 4s - loss: 0.0722 - accuracy: 0.9789 - val_loss: 0.0822 - val_accuracy: 0.9754 - 4s/epoch - 15ms/step\n",
            "Epoch 4/10\n",
            "300/300 - 4s - loss: 0.0503 - accuracy: 0.9855 - val_loss: 0.0693 - val_accuracy: 0.9790 - 4s/epoch - 14ms/step\n",
            "Epoch 5/10\n",
            "300/300 - 4s - loss: 0.0355 - accuracy: 0.9900 - val_loss: 0.0601 - val_accuracy: 0.9814 - 4s/epoch - 15ms/step\n",
            "Epoch 6/10\n",
            "300/300 - 4s - loss: 0.0268 - accuracy: 0.9932 - val_loss: 0.0618 - val_accuracy: 0.9809 - 4s/epoch - 15ms/step\n",
            "Epoch 7/10\n",
            "300/300 - 4s - loss: 0.0205 - accuracy: 0.9947 - val_loss: 0.0596 - val_accuracy: 0.9819 - 4s/epoch - 15ms/step\n",
            "Epoch 8/10\n",
            "300/300 - 4s - loss: 0.0149 - accuracy: 0.9964 - val_loss: 0.0605 - val_accuracy: 0.9813 - 4s/epoch - 15ms/step\n",
            "Epoch 9/10\n",
            "300/300 - 4s - loss: 0.0108 - accuracy: 0.9977 - val_loss: 0.0579 - val_accuracy: 0.9820 - 4s/epoch - 14ms/step\n",
            "Epoch 10/10\n",
            "300/300 - 4s - loss: 0.0084 - accuracy: 0.9985 - val_loss: 0.0645 - val_accuracy: 0.9818 - 4s/epoch - 14ms/step\n",
            "Baseline Error: 1.82%\n"
          ]
        }
      ]
    },
    {
      "cell_type": "markdown",
      "source": [
        "# 4. Derive the gradient for the given expressions"
      ],
      "metadata": {
        "id": "D2EZCKeZkiG7"
      }
    },
    {
      "cell_type": "code",
      "source": [
        "# Calc the given expression \n",
        "A, x = [[1,0],[0,1]], np.array([2,3])\n",
        "\n",
        "fxn = lambda A,x: 0.5*x.T @ A @ x\n",
        "y = fxn(A, x)"
      ],
      "metadata": {
        "id": "Y3POgvIchDfJ"
      },
      "execution_count": null,
      "outputs": []
    },
    {
      "cell_type": "markdown",
      "source": [
        "Given $x=\\begin{bmatrix}2\\\\3\\end{bmatrix}$\n",
        " , and $A = \\begin{bmatrix}a_{1} & a_{2}\\\\a_{3} & a_{4}\\end{bmatrix}$\n",
        "\n",
        "The quadratic equation can be generalized as a series of summations.\n",
        "\n",
        "$$f(x) = 0.5\\sum_{i=1}^n \\sum_{j=1}^n x_{i}*A_{ij}*x_{j}$$\n",
        "\n",
        "Since the lengths of x and A are equal (n = 2), can do the partial derivative w.r.t. matrix element k to compute the gradient.\n",
        "\n",
        "$$f(x) = 0.5\\sum_{i=1}^n (A_{ii}*x_{i}^2 + \\sum_{j\\neq i} x_{i}*A_{ij}*x_{j})$$\n",
        "\\\n",
        "$$\\nabla f(x) = 0.5\\displaystyle \\frac{\\partial f}{\\partial x_{k}}f(x) = \n",
        "0.5\\binom{\\frac{\\partial f}{\\partial x_{1}}}\n",
        "      {\\frac{\\partial f}{\\partial x_{2}}} \n",
        "= 0.5\\binom{\\sum_{j=1}^n x_{j}*A_{j1} + \\sum_{j=1}^n A_{1j}*x_{j}}\n",
        "{\\sum_{j=1}^n x_{j}*A_{j2} + \\sum_{j=1}^n A_{2j}*x_{j}}\n",
        "= 0.5(A^T+A)x$$\n",
        "\\\n",
        "If A is symmetric, i.e. $A_{ij} = A_{ji}$ then $A^T = A$ and the gradient becomes:\\\n",
        "$$\\nabla f(x) = 0.5(A+A)x = Ax$$\n"
      ],
      "metadata": {
        "id": "MldWuSYCLLHl"
      }
    }
  ]
}