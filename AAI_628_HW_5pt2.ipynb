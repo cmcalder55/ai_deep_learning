{
  "cells": [
    {
      "cell_type": "markdown",
      "metadata": {
        "id": "7Rfao0wSj-mG"
      },
      "source": [
        "# 1. Test TensorFlow imports\n",
        "\n"
      ]
    },
    {
      "cell_type": "code",
      "execution_count": 1,
      "metadata": {
        "id": "em-sBOp5gI5V"
      },
      "outputs": [],
      "source": [
        "import tensorflow as tf\n",
        "\n",
        "from keras import models\n",
        "from keras import layers\n",
        "from keras import regularizers\n",
        "\n",
        "from keras.layers import Input, Dense\n",
        "from keras.layers import Dense\n",
        "from keras.layers import Dropout\n",
        "\n",
        "from keras.models import Model\n",
        "from keras.models import Sequential\n",
        "\n",
        "from keras.datasets import fashion_mnist\n",
        "from keras.utils import np_utils\n",
        "\n",
        "import matplotlib.pyplot as plt"
      ]
    },
    {
      "cell_type": "markdown",
      "metadata": {
        "id": "ucDmH1RhkD7C"
      },
      "source": [
        "# 2. Test TensorFlow with Lin. Reg."
      ]
    },
    {
      "cell_type": "code",
      "execution_count": 2,
      "metadata": {
        "colab": {
          "base_uri": "https://localhost:8080/"
        },
        "id": "sUN4PGVcgVea",
        "outputId": "d2f0825e-f9a2-418e-e876-b684ca7a7bf6"
      },
      "outputs": [
        {
          "output_type": "stream",
          "name": "stdout",
          "text": [
            "tf.Tensor(\n",
            "[[-3.7144665e+01]\n",
            " [ 4.3637392e-01]\n",
            " [ 9.3933418e-03]\n",
            " [-1.0714764e-01]\n",
            " [ 6.4542186e-01]\n",
            " [-4.1016874e-06]\n",
            " [-3.7816020e-03]\n",
            " [-4.2341197e-01]\n",
            " [-4.3682083e-01]], shape=(9, 1), dtype=float32)\n"
          ]
        }
      ],
      "source": [
        "import numpy as np\n",
        "#Linear Regression with TensorFlow\n",
        "from sklearn.datasets import fetch_california_housing\n",
        "\n",
        "housing = fetch_california_housing()\n",
        "m, n = housing.data.shape\n",
        "housing_data_plus_bias = np.c_[np.ones((m, 1)), housing.data]\n",
        "\n",
        "X = tf.constant(housing_data_plus_bias, dtype=tf.float32, name=\"X\")\n",
        "y = tf.constant(housing.target.reshape(-1, 1), dtype=tf.float32, name=\"y\")\n",
        "\n",
        "XT = tf.transpose(X)\n",
        "\n",
        "theta = tf.matmul(tf.matmul(tf.linalg.inv(tf.matmul(XT, X)), XT), y)\n",
        "\n",
        "print(theta)"
      ]
    },
    {
      "cell_type": "markdown",
      "metadata": {
        "id": "HMAWMNL2kTBn"
      },
      "source": [
        "# 3. Test TensorFlow with MNIST (handwriting) dataset"
      ]
    },
    {
      "cell_type": "markdown",
      "metadata": {
        "id": "9I4dKHxy4sEK"
      },
      "source": [
        "## Load the MNIST dataset"
      ]
    },
    {
      "cell_type": "code",
      "execution_count": 3,
      "metadata": {
        "colab": {
          "base_uri": "https://localhost:8080/",
          "height": 431
        },
        "id": "WfGoxdgKdRAq",
        "outputId": "7c90226b-e572-4b82-dc91-12227aa5344d"
      },
      "outputs": [
        {
          "output_type": "stream",
          "name": "stdout",
          "text": [
            "Downloading data from https://storage.googleapis.com/tensorflow/tf-keras-datasets/train-labels-idx1-ubyte.gz\n",
            "29515/29515 [==============================] - 0s 0us/step\n",
            "Downloading data from https://storage.googleapis.com/tensorflow/tf-keras-datasets/train-images-idx3-ubyte.gz\n",
            "26421880/26421880 [==============================] - 1s 0us/step\n",
            "Downloading data from https://storage.googleapis.com/tensorflow/tf-keras-datasets/t10k-labels-idx1-ubyte.gz\n",
            "5148/5148 [==============================] - 0s 0us/step\n",
            "Downloading data from https://storage.googleapis.com/tensorflow/tf-keras-datasets/t10k-images-idx3-ubyte.gz\n",
            "4422102/4422102 [==============================] - 0s 0us/step\n"
          ]
        },
        {
          "output_type": "display_data",
          "data": {
            "text/plain": [
              "<Figure size 432x288 with 4 Axes>"
            ],
            "image/png": "[encoded data removed]"
          },
          "metadata": {
            "needs_background": "light"
          }
        }
      ],
      "source": [
        "(X_train, y_train), (X_test, y_test) = fashion_mnist.load_data()\n",
        "\n",
        "# plot 4 images as gray scale\n",
        "plt.subplot(221)\n",
        "plt.imshow(X_train[0], cmap=plt.get_cmap('gray'))\n",
        "plt.subplot(222)\n",
        "plt.imshow(X_train[1], cmap=plt.get_cmap('gray'))\n",
        "plt.subplot(223)\n",
        "plt.imshow(X_train[2], cmap=plt.get_cmap('gray'))\n",
        "plt.subplot(224)\n",
        "plt.imshow(X_train[3], cmap=plt.get_cmap('gray'))\n",
        "# show the plot\n",
        "plt.show()\n",
        "\n",
        "# fix random seed for reproducibility\n",
        "seed = 7\n",
        "np.random.seed(seed)"
      ]
    },
    {
      "cell_type": "markdown",
      "metadata": {
        "id": "39_FLRgg42-G"
      },
      "source": [
        "## Format data"
      ]
    },
    {
      "cell_type": "code",
      "execution_count": 4,
      "metadata": {
        "id": "BLpRqsmIdXM1"
      },
      "outputs": [],
      "source": [
        "# load data\n",
        "(X_train, y_train), (X_test, y_test) = fashion_mnist.load_data()\n",
        "# flatten 28*28 images to a 784 vector for each image\n",
        "num_pixels = X_train.shape[1] * X_train.shape[2]\n",
        "X_train = X_train.reshape(X_train.shape[0], num_pixels).astype('float32')\n",
        "X_test = X_test.reshape(X_test.shape[0], num_pixels).astype('float32')\n",
        "# normalize inputs from 0-255 to 0-1\n",
        "X_train = X_train / 255\n",
        "X_test = X_test / 255\n",
        "# one hot encode outputs\n",
        "y_train = np_utils.to_categorical(y_train)\n",
        "y_test = np_utils.to_categorical(y_test)\n",
        "num_classes = y_test.shape[1]"
      ]
    },
    {
      "cell_type": "markdown",
      "metadata": {
        "id": "rr0juuhl-xaN"
      },
      "source": [
        "## Define mode\n"
      ]
    },
    {
      "cell_type": "code",
      "execution_count": 18,
      "metadata": {
        "id": "XnbJ0R2o3LD4"
      },
      "outputs": [],
      "source": [
        "m = {'reg':0.007, 'drop':0.5, 'base':None}\n",
        "m_keys = list(m.keys())\n",
        "mode = m_keys[2]        # 0 = regularization, 1 = dropout, 2 = baseline"
      ]
    },
    {
      "cell_type": "code",
      "execution_count": 19,
      "metadata": {
        "colab": {
          "base_uri": "https://localhost:8080/"
        },
        "id": "bHnobe_06uoU",
        "outputId": "f310deb7-d2ad-4821-a363-e343ebc60648"
      },
      "outputs": [
        {
          "output_type": "execute_result",
          "data": {
            "text/plain": [
              "('base', None)"
            ]
          },
          "metadata": {},
          "execution_count": 19
        }
      ],
      "source": [
        "mode, m[mode]"
      ]
    },
    {
      "cell_type": "markdown",
      "source": [
        "## define model"
      ],
      "metadata": {
        "id": "aLkkYk6qJIX6"
      }
    },
    {
      "cell_type": "code",
      "execution_count": 20,
      "metadata": {
        "id": "zpTzsTi_zYWr"
      },
      "outputs": [],
      "source": [
        "# define network model\n",
        "network = Sequential()\n",
        "\n",
        "if mode == 'reg':               # regularization network model\n",
        "  reg = m[mode]\n",
        "  network.add(layers.Dense(512, kernel_regularizer=regularizers.l2(reg), \n",
        "                          activation='relu', input_shape=(28 * 28,)))\n",
        "  network.add(layers.Dense(10, activation='softmax'))\n",
        "  # complile\n",
        "  network.compile(loss='categorical_crossentropy', optimizer='adam', metrics=['accuracy'])\n",
        "  # plotting\n",
        "  plt_title = str(reg)+' regularization factor'\n",
        "\n",
        "elif mode == 'drop':              # dropout rate model\n",
        "  drop = m[mode]\n",
        "  network.add(layers.Dense(512, activation='relu', input_shape=(28 * 28,)))\n",
        "  network.add(layers.Dropout(drop))\n",
        "  network.add(layers.Dense(10, activation='softmax'))\n",
        "  # complile\n",
        "  network.compile(loss='categorical_crossentropy', optimizer='adam', metrics=['accuracy'])\n",
        "  # plotting\n",
        "  plt_title = str(drop)+' dropout rate'\n",
        "\n",
        "else:                         # baseline model\n",
        "  network.add(Dense(num_pixels, input_dim=num_pixels, kernel_initializer='normal', activation='relu'))\n",
        "  #  model.add(Dense(num_pixels/2, input_dim=num_pixels, kernel_initializer='normal', activation='relu'))\n",
        "  network.add(Dense(num_classes, kernel_initializer='normal', activation='softmax'))\n",
        "  # Compile model\n",
        "  network.compile(loss='categorical_crossentropy', optimizer='adam', metrics=['accuracy'])\n",
        "  # plotting\n",
        "  plt_title = 'baseline model'"
      ]
    },
    {
      "cell_type": "markdown",
      "source": [
        "## build and fit"
      ],
      "metadata": {
        "id": "KQotEVmnJWL8"
      }
    },
    {
      "cell_type": "code",
      "execution_count": 21,
      "metadata": {
        "colab": {
          "base_uri": "https://localhost:8080/"
        },
        "id": "GpG1hL0cgnMv",
        "outputId": "9c4b8fb9-e922-4e63-9f6e-59aff1f5eeae"
      },
      "outputs": [
        {
          "output_type": "stream",
          "name": "stdout",
          "text": [
            "Epoch 1/10\n",
            "300/300 - 11s - loss: 0.5099 - accuracy: 0.8232 - val_loss: 0.4258 - val_accuracy: 0.8494 - 11s/epoch - 35ms/step\n",
            "Epoch 2/10\n",
            "300/300 - 5s - loss: 0.3755 - accuracy: 0.8658 - val_loss: 0.3671 - val_accuracy: 0.8699 - 5s/epoch - 17ms/step\n",
            "Epoch 3/10\n",
            "300/300 - 6s - loss: 0.3371 - accuracy: 0.8793 - val_loss: 0.3621 - val_accuracy: 0.8672 - 6s/epoch - 21ms/step\n",
            "Epoch 4/10\n",
            "300/300 - 5s - loss: 0.3064 - accuracy: 0.8883 - val_loss: 0.3575 - val_accuracy: 0.8687 - 5s/epoch - 18ms/step\n",
            "Epoch 5/10\n",
            "300/300 - 6s - loss: 0.2854 - accuracy: 0.8961 - val_loss: 0.3594 - val_accuracy: 0.8724 - 6s/epoch - 20ms/step\n",
            "Epoch 6/10\n",
            "300/300 - 5s - loss: 0.2735 - accuracy: 0.8985 - val_loss: 0.3296 - val_accuracy: 0.8808 - 5s/epoch - 18ms/step\n",
            "Epoch 7/10\n",
            "300/300 - 5s - loss: 0.2534 - accuracy: 0.9066 - val_loss: 0.3259 - val_accuracy: 0.8788 - 5s/epoch - 18ms/step\n",
            "Epoch 8/10\n",
            "300/300 - 6s - loss: 0.2469 - accuracy: 0.9092 - val_loss: 0.3209 - val_accuracy: 0.8842 - 6s/epoch - 20ms/step\n",
            "Epoch 9/10\n",
            "300/300 - 5s - loss: 0.2349 - accuracy: 0.9129 - val_loss: 0.3044 - val_accuracy: 0.8928 - 5s/epoch - 18ms/step\n",
            "Epoch 10/10\n",
            "300/300 - 6s - loss: 0.2228 - accuracy: 0.9176 - val_loss: 0.3398 - val_accuracy: 0.8795 - 6s/epoch - 20ms/step\n"
          ]
        }
      ],
      "source": [
        "# build the model\n",
        "model = network\n",
        "# Fit the model\n",
        "history = model.fit(X_train, y_train, \n",
        "                    validation_data=(X_test, y_test), \n",
        "                    epochs=10, batch_size=200, verbose=2)\n",
        "\n",
        "history_dict = history.history"
      ]
    },
    {
      "cell_type": "markdown",
      "source": [
        "## evaluate final model and plot loss"
      ],
      "metadata": {
        "id": "rwqRYMSB6639"
      }
    },
    {
      "cell_type": "code",
      "source": [
        "# Final evaluation of the model\n",
        "scores = model.evaluate(X_test, y_test, verbose=0)\n",
        "print(\"Baseline Error: %.2f%%\" % (100-scores[1]*100))"
      ],
      "metadata": {
        "colab": {
          "base_uri": "https://localhost:8080/"
        },
        "id": "RjEoPrBe63SD",
        "outputId": "2d1707cd-490b-4e4e-c1b5-b6f12f20ecbf"
      },
      "execution_count": 22,
      "outputs": [
        {
          "output_type": "stream",
          "name": "stdout",
          "text": [
            "Baseline Error: 12.05%\n"
          ]
        }
      ]
    },
    {
      "cell_type": "code",
      "execution_count": 23,
      "metadata": {
        "colab": {
          "base_uri": "https://localhost:8080/",
          "height": 295
        },
        "id": "xwUwWL2WztyL",
        "outputId": "f0f84bf0-113e-4f61-f194-bd9c80b651c6"
      },
      "outputs": [
        {
          "output_type": "display_data",
          "data": {
            "text/plain": [
              "<Figure size 432x288 with 1 Axes>"
            ],
            "image/png": "[encoded data removed]"
          },
          "metadata": {
            "needs_background": "light"
          }
        }
      ],
      "source": [
        "loss_values = history_dict['loss']\n",
        "val_loss_values = history_dict['val_loss']\n",
        "acc_values = history_dict['accuracy']\n",
        "epochs = range(1, len(acc_values) + 1)\n",
        "\n",
        "plt.plot(epochs, loss_values, 'bo', label='Training loss')\n",
        "plt.plot(epochs, val_loss_values, 'b', label='Validation loss')\n",
        "\n",
        "plt.title('Training and validation loss, '+plt_title)\n",
        "plt.xlabel('Epochs')\n",
        "plt.ylabel('Loss')\n",
        "plt.legend()\n",
        "\n",
        "plt.show()"
      ]
    }
  ],
  "metadata": {
    "colab": {
      "provenance": []
    },
    "kernelspec": {
      "display_name": "Python 3",
      "name": "python3"
    },
    "language_info": {
      "name": "python"
    }
  },
  "nbformat": 4,
  "nbformat_minor": 0
}