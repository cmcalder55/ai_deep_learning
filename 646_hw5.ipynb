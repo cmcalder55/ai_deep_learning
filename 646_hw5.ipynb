{
 "cells": [
  {
   "cell_type": "code",
   "execution_count": 545,
   "id": "d0d12625",
   "metadata": {},
   "outputs": [],
   "source": [
    "from math import exp as e_\n",
    "import numpy as np\n",
    "import pandas as pd\n",
    "import matplotlib.pyplot as plt\n",
    "import scipy.io as io\n"
   ]
  },
  {
   "cell_type": "markdown",
   "id": "0fe1d59f",
   "metadata": {},
   "source": [
    "# 1.1"
   ]
  },
  {
   "cell_type": "code",
   "execution_count": 546,
   "id": "353682d3",
   "metadata": {},
   "outputs": [
    {
     "data": {
      "image/png": "[encoded data removed]",
      "text/plain": [
       "<Figure size 640x480 with 1 Axes>"
      ]
     },
     "metadata": {},
     "output_type": "display_data"
    }
   ],
   "source": [
    "hw5_1 = io.loadmat(\"hw5.mat\")['hw5_1']\n",
    "hw5_2 = io.loadmat(\"hw5.mat\")['hw5_2']\n",
    "\n",
    "\n",
    "d1, d2 = hw5_1, hw5_2\n",
    "\n",
    "plt.scatter(d1[0],d1[1])\n",
    "plt.scatter(d2[0],d2[1])\n",
    "plt.legend(labels=['Class 1','Class 2'])\n",
    "plt.title('2D Data Plot')\n",
    "\n",
    "plt.show()"
   ]
  },
  {
   "cell_type": "markdown",
   "id": "d4041b92",
   "metadata": {},
   "source": [
    "# 1.2\n",
    "\n",
    "Use Stochastic Backpropagation Algorithm to train a neural network, with following settings:  \n",
    "•\tNumber of hidden nodes = 10,  \n",
    "    Number of input nodes = 2 (= input pattern dimension),   \n",
    "    Number of output nodes = 2 (= number of categories)  \n",
    "•\tConvergence criterion = 0.1  \n",
    "•\tConvergence rate (i.e. step size) = 0.1  \n",
    "•\tActivation function f(net) = a.tanh (b.net), and a=1.716, b=2/3.  \n",
    "•\tTarget vector for ω1 is [1, -1]t, and target vector for ω2 is [-1, 1]t  \n",
    "•\tUsing standardized input patterns (pp. 308), and random uniform weights initialization (pp. 311)   \n"
   ]
  },
  {
   "cell_type": "code",
   "execution_count": 814,
   "id": "eecb14a0",
   "metadata": {
    "scrolled": false
   },
   "outputs": [
    {
     "name": "stdout",
     "output_type": "stream",
     "text": [
      "Initial weights:\n",
      "\n",
      "[[ 0.04683794  0.02995315]\n",
      " [-0.04383164 -0.03462991]\n",
      " [ 0.0344423  -0.04146155]\n",
      " [-0.01006368 -0.03394217]\n",
      " [-0.0636694  -0.03331976]\n",
      " [-0.02212513  0.02225449]\n",
      " [-0.02160279  0.05991528]\n",
      " [-0.06737451  0.06173588]\n",
      " [-0.05680244 -0.05390334]\n",
      " [-0.01914394  0.05729524]] [[-0.08031152  0.07646603  0.27319769  0.25662402 -0.06775707  0.13718913\n",
      "   0.02593062 -0.04885844 -0.197787    0.2974539 ]\n",
      " [ 0.25996687 -0.15728328  0.24345051  0.28774839  0.04443092  0.19244529\n",
      "   0.09027925  0.27555191  0.18322849  0.05580936]] \n",
      "\n",
      "Final weights:\n",
      "\n",
      "[[ 0.12359956 -0.20872135]\n",
      " [ 0.03292998 -0.27330441]\n",
      " [ 0.11120392 -0.28013605]\n",
      " [ 0.06669794 -0.27261667]\n",
      " [ 0.01309222 -0.27199426]\n",
      " [ 0.05463649 -0.21642001]\n",
      " [ 0.05515883 -0.17875921]\n",
      " [ 0.00938711 -0.17693862]\n",
      " [ 0.01995919 -0.29257784]\n",
      " [ 0.05761768 -0.18137926]] [[-0.16285874 -0.16773176  0.17436705  0.07468025 -0.34857936 -0.07234947\n",
      "  -0.18620068 -0.34548759 -0.46403513  0.09011243]\n",
      " [ 0.17741965 -0.40148106  0.14461987  0.10580462 -0.23639137 -0.01709332\n",
      "  -0.12185204 -0.02107723 -0.08301963 -0.15153211]] \n",
      "\n",
      "Final Error Rate:\n",
      "\n",
      "0.013750959157153414\n"
     ]
    }
   ],
   "source": [
    "d1, d2 = hw5_1, hw5_2\n",
    "target = np.array(list(zip([1 for _ in range(100)], [-1 for _ in range(100)])))\n",
    "target = np.concatenate((target, -target), axis=0)\n",
    "\n",
    "d1, d2 = d1/np.linalg.norm(d1), d2/np.linalg.norm(d2)\n",
    "train = np.concatenate((d1.T, d2.T), axis=0)\n",
    "\n",
    "\n",
    "theta=0.1;                           # criterion to stop\n",
    "eta=0.1;                             # step size\n",
    "nh=10;                               # number of hidden nodes, actual hidden nodes should be 11 (including a biase)\n",
    "ni=2;                                # dimension of input vector = number of input nodes, \n",
    "                                     #           actual input nodes should be 3 (including a bias)\n",
    "no=2;                                # number of class = number of out nodes\n",
    "\n",
    "def init_weights():\n",
    "    '''set weights according to slide 54 in lesson 10'''\n",
    "    # input-to-hidden layer\n",
    "    d = 1/np.sqrt(200)\n",
    "    w_ih = np.random.uniform(-d,d,size=(nh,ni))\n",
    "    # hidden-to-output layer\n",
    "    n = 1/np.sqrt(nh)\n",
    "    w_ho = np.random.uniform(-n,n, size=(no, nh))\n",
    "    return w_ih, w_ho\n",
    "\n",
    "def calc_net(w,x,n):\n",
    "    '''given input weight matrix (synapse), num of hidden units,\n",
    "    and a training sample vector, return net activation vector'''\n",
    "    # append bias terms\n",
    "    w = np.hstack( (w,np.ones((n,1))) )    \n",
    "    x = np.hstack((1,x))\n",
    "    return np.dot(w, x)\n",
    "\n",
    "def activation(a,b,net):\n",
    "    '''Tanh activation function'''\n",
    "    b_net = b*net\n",
    "    return a*((e_(b_net)-e_(-b_net))/(e_(b_net)+e_(-b_net)))\n",
    "\n",
    "def sech_squared(n):\n",
    "    '''f'net function helper for sech^2 activation'''\n",
    "    return 1 / (math.cosh(b*n)**2)\n",
    "\n",
    "def f_prime(net):\n",
    "    '''f'net '''\n",
    "    return np.array([a*b*sech_squared(n) for n in net])\n",
    "\n",
    "def update_weights(x,t,w_ih,w_ho):\n",
    "    net_j = calc_net(w_ih,x,nh)\n",
    "\n",
    "    y = np.array([activation(a,b,n) for n in net_j])\n",
    "\n",
    "    net_k = calc_net(w_ho,y,no)\n",
    "    z_out = np.array([activation(a,b,n) for n in net_k])\n",
    "    \n",
    "    delta_k = np.dot(t-z_out,f_prime(net_k))\n",
    "    delta_j = np.dot(sum(np.dot(delta_k,w_ho)),f_prime(net_j))\n",
    "\n",
    "    w_ih += np.outer(delta_j,x)*eta\n",
    "    w_ho += np.outer(delta_k,y)*eta\n",
    "    return w_ih, w_ho, z_out\n",
    "\n",
    " \n",
    "a, b = 1.716, 2/3   \n",
    "d = len(train)\n",
    "w_ih, w_ho = init_weights()  \n",
    "print(\"Initial weights:\\n\")\n",
    "print(w_ih, w_ho,'\\n')\n",
    "\n",
    "for idx in range(100):\n",
    "    error = []\n",
    "    for i in range(len(target)):\n",
    "        x_i, t_i = train[i], target[i]\n",
    "        w_ih, w_ho, z_out = update_weights(x_i,t_i,w_ih,w_ho)\n",
    "        error.append(0.5*(np.abs(t-z_out)**2))\n",
    "\n",
    "    error_rate = sum(np.abs(np.diff(error)))/200\n",
    "    \n",
    "    if error_rate < theta:\n",
    "        break\n",
    "    \n",
    "print(\"Final weights:\\n\")\n",
    "print(w_ih, w_ho,'\\n')\n",
    "print('Final Error Rate:\\n')\n",
    "print(error_rate[0])\n"
   ]
  },
  {
   "cell_type": "markdown",
   "id": "e8bfeb5d",
   "metadata": {},
   "source": [
    "# 1.3"
   ]
  },
  {
   "cell_type": "code",
   "execution_count": 843,
   "id": "9dce260f",
   "metadata": {
    "scrolled": false
   },
   "outputs": [
    {
     "name": "stdout",
     "output_type": "stream",
     "text": [
      "D0 belongs to class 1.\n",
      "D1 belongs to class 1.\n",
      "D2 belongs to class 2.\n",
      "D3 belongs to class 2.\n",
      "\n"
     ]
    }
   ],
   "source": [
    " \n",
    "D = np.array([[2,2],[-3,-3],[-2,5],[3,-4]])\n",
    "D = np.concatenate((train,D/np.linalg.norm(D)))\n",
    "\n",
    "w_ih, w_ho = init_weights()  \n",
    "\n",
    "for idx in range(200):\n",
    "    error = []\n",
    "    preds = []\n",
    "    for i in range(len(target)):\n",
    "        x_i, t_i = D[i], target[i]\n",
    "        w_ih, w_ho, z_out = update_weights(x_i,t_i,w_ih,w_ho)\n",
    "        error.append(0.5*(np.abs(t-z_out)**2))\n",
    "        preds.append(z_out)\n",
    "\n",
    "    error_rate = sum(np.abs(np.diff(error)))/200\n",
    "    \n",
    "    if error_rate < theta:\n",
    "        break\n",
    "    \n",
    "for i,p in enumerate(preds[-4:]):\n",
    "    if math.dist(p, np.array([-1,1])) > math.dist(p, np.array([1,-1])):\n",
    "        print(f'D{i} belongs to class 2.')\n",
    "        \n",
    "    else: \n",
    "        print(f'D{i} belongs to class 1.')\n"
   ]
  }
 ],
 "metadata": {
  "kernelspec": {
   "display_name": "Python 3 (ipykernel)",
   "language": "python",
   "name": "python3"
  },
  "language_info": {
   "codemirror_mode": {
    "name": "ipython",
    "version": 3
   },
   "file_extension": ".py",
   "mimetype": "text/x-python",
   "name": "python",
   "nbconvert_exporter": "python",
   "pygments_lexer": "ipython3",
   "version": "3.10.9"
  }
 },
 "nbformat": 4,
 "nbformat_minor": 5
}
